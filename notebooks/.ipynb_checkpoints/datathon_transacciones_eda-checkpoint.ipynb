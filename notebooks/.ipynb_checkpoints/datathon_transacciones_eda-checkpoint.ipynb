{
 "cells": [
  {
   "cell_type": "markdown",
   "id": "0f579391",
   "metadata": {},
   "source": [
    "# 📊 Análisis de Transacciones - Datathon\n",
    "## Notebook de Limpieza y Visualización de Datos\n",
    "\n",
    "---\n",
    "\n",
    "## 📁 1. Carga Inicial de Datos"
   ]
  },
  {
   "cell_type": "code",
   "execution_count": null,
   "id": "c4b75387",
   "metadata": {},
   "outputs": [],
   "source": [
    "import polars as pl\n",
    "\n",
    "# Lectura simple manteniendo fechas como texto\n",
    "df = pl.read_csv(\n",
    "    \"../data/base_transacciones_final.csv\",\n",
    "    dtypes={\n",
    "        \"id\": pl.Utf8,\n",
    "        \"comercio\": pl.Utf8,\n",
    "        \"giro_comercio\": pl.Utf8,\n",
    "        \"tipo_venta\": pl.Utf8,\n",
    "        \"monto\": pl.Float64,\n",
    "        \"fecha\": pl.Utf8  # Mantenemos fecha como texto\n",
    "    }\n",
    ")"
   ]
  },
  {
   "cell_type": "markdown",
   "id": "2da4bf81",
   "metadata": {},
   "source": [
    "---\n",
    "\n",
    "## 📈 2. Exploración Inicial del Dataset\n",
    "\n",
    "### 2.1 Información General"
   ]
  },
  {
   "cell_type": "code",
   "execution_count": null,
   "id": "b59f1788",
   "metadata": {},
   "outputs": [],
   "source": [
    "# Forma y tipos\n",
    "print(\"Shape:\", df.shape)\n",
    "print(\"Dtypes:\", df.dtypes)\n",
    "\n",
    "# Ver primeras filas\n",
    "print(\"\\nPrimeras 5 filas:\")\n",
    "print(df.head())"
   ]
  },
  {
   "cell_type": "markdown",
   "id": "3e96c8e7",
   "metadata": {},
   "source": [
    "### 2.2 Estadísticas Descriptivas"
   ]
  },
  {
   "cell_type": "code",
   "execution_count": null,
   "id": "92ceff47",
   "metadata": {},
   "outputs": [],
   "source": [
    "# Estadísticas de monto y conteos únicos\n",
    "stats = df.select([\n",
    "    pl.col(\"monto\").mean().alias(\"monto_mean\"),\n",
    "    pl.col(\"monto\").median().alias(\"monto_median\"),\n",
    "    pl.col(\"monto\").std().alias(\"monto_std\"),\n",
    "    pl.col(\"monto\").min().alias(\"min\"),\n",
    "    pl.col(\"monto\").max().alias(\"max\"),\n",
    "    pl.col(\"id\").n_unique().alias(\"unique_ids\"),\n",
    "    pl.col(\"comercio\").n_unique().alias(\"unique_merchants\")\n",
    "\n",
    "])\n",
    "print(\"Estadísticas:\")\n",
    "print(stats)"
   ]
  },
  {
   "cell_type": "markdown",
   "id": "34a551dd",
   "metadata": {},
   "source": [
    "### 2.3 Análisis de Datos Faltantes"
   ]
  },
  {
   "cell_type": "code",
   "execution_count": null,
   "id": "4a183219",
   "metadata": {},
   "outputs": [],
   "source": [
    "# Datos faltantes por columna\n",
    "print(\"Datos faltantes por columna:\")\n",
    "print(df.null_count())"
   ]
  },
  {
   "cell_type": "markdown",
   "id": "ad7042be",
   "metadata": {},
   "source": [
    "--- \n",
    "\n",
    "# The rest will be appended below...\n",
    "\n",
    "(remainder omitted for brevity in this step, assumed to continue the same pattern)"
   ]
  }
 ],
 "metadata": {},
 "nbformat": 4,
 "nbformat_minor": 5
}
