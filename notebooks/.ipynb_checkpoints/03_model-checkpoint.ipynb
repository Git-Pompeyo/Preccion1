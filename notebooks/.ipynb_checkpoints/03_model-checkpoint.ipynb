{
 "cells": [
  {
   "cell_type": "markdown",
   "id": "f42cc684",
   "metadata": {},
   "source": [
    "# Análisis de Transacciones - Datathon\n",
    "## Notebook de Limpieza y Visualización de Datos"
   ]
  },
  {
   "cell_type": "markdown",
   "id": "7552216a",
   "metadata": {},
   "source": [
    "# 1. Carga Inicial de Datos"
   ]
  },
  {
   "cell_type": "code",
   "execution_count": null,
   "id": "476016a2",
   "metadata": {
    "vscode": {
     "languageId": "plaintext"
    }
   },
   "outputs": [],
   "source": [
    "import polars as pl\n",
    "\n",
    "# Lectura simple manteniendo fechas como texto\n",
    "df = pl.read_csv(\n",
    "    \"../data/base_transacciones_final.csv\",\n",
    "    dtypes={\n",
    "        \"id\": pl.Utf8,\n",
    "        \"comercio\": pl.Utf8,\n",
    "        \"giro_comercio\": pl.Utf8,\n",
    "        \"tipo_venta\": pl.Utf8,\n",
    "        \"monto\": pl.Float64,\n",
    "        \"fecha\": pl.Utf8  # Mantenemos fecha como texto\n",
    "    }\n",
    ")"
   ]
  }
 ],
 "metadata": {
  "language_info": {
   "name": "python"
  }
 },
 "nbformat": 4,
 "nbformat_minor": 5
}
